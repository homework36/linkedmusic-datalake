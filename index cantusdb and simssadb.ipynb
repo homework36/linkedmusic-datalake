{
 "cells": [
  {
   "cell_type": "code",
   "execution_count": 1,
   "metadata": {},
   "outputs": [],
   "source": [
    "from elasticsearch import Elasticsearch\n",
    "import requests\n",
    "import os\n",
    "import json\n",
    "import pyld.jsonld\n",
    "from bs4 import BeautifulSoup"
   ]
  },
  {
   "cell_type": "code",
   "execution_count": 2,
   "metadata": {},
   "outputs": [
    {
     "data": {
      "text/plain": [
       "{'name': '91afa29ea9cc',\n",
       " 'cluster_name': 'docker-cluster',\n",
       " 'cluster_uuid': 'HG8mry3STnGrQehEiJ3QgA',\n",
       " 'version': {'number': '8.10.2',\n",
       "  'build_flavor': 'default',\n",
       "  'build_type': 'docker',\n",
       "  'build_hash': '6d20dd8ce62365be9b1aca96427de4622e970e9e',\n",
       "  'build_date': '2023-09-19T08:16:24.564900370Z',\n",
       "  'build_snapshot': False,\n",
       "  'lucene_version': '9.7.0',\n",
       "  'minimum_wire_compatibility_version': '7.17.0',\n",
       "  'minimum_index_compatibility_version': '7.0.0'},\n",
       " 'tagline': 'You Know, for Search'}"
      ]
     },
     "execution_count": 2,
     "metadata": {},
     "output_type": "execute_result"
    }
   ],
   "source": [
    "es = Elasticsearch(\"http://localhost:9200\")\n",
    "es.info().body"
   ]
  },
  {
   "cell_type": "code",
   "execution_count": 3,
   "metadata": {},
   "outputs": [],
   "source": [
    "current_directory = os.getcwd()\n",
    "cantus_url = current_directory + '\\cantusdb\\jsonld\\compact.jsonld'\n",
    "simssa_url = current_directory + '\\simssadb\\jsonld\\compact.jsonld'\n",
    "musicbrainz_url = current_directory + '\\musicbrainz\\jsonld\\looping-approach\\compact.jsonld'\n",
    "\n",
    "with open(cantus_url, 'r') as json_file:\n",
    "    cantus_compact = json.load(json_file)\n",
    "    cantus_expand = pyld.jsonld.expand(cantus_compact) \n",
    "\n",
    "\n",
    "with open(simssa_url, 'r') as json_file:\n",
    "    simssa_compact = json.load(json_file)\n",
    "    simssa_expand = pyld.jsonld.expand(simssa_compact) \n",
    "\n",
    "with open(musicbrainz_url, 'r') as json_file:\n",
    "    musicbrainz_compact = json.load(json_file)\n",
    "    musicbrainz_expand = pyld.jsonld.expand(musicbrainz_compact) "
   ]
  },
  {
   "cell_type": "code",
   "execution_count": 4,
   "metadata": {},
   "outputs": [],
   "source": [
    "def remove_url(data):\n",
    "    def extract_last_part(url):\n",
    "        parts = url.rstrip('/').split('/')\n",
    "        return parts[-1] if parts[-1] else parts[-2]\n",
    "\n",
    "    if isinstance(data, dict):\n",
    "        new_data = {}\n",
    "        for key, value in data.items():\n",
    "            new_key = extract_last_part(key)\n",
    "            new_data[new_key] = remove_url(value)\n",
    "        return new_data\n",
    "    elif isinstance(data, list):\n",
    "        return [remove_url(item) for item in data]\n",
    "    else:\n",
    "        return data"
   ]
  },
  {
   "cell_type": "code",
   "execution_count": 5,
   "metadata": {},
   "outputs": [
    {
     "data": {
      "text/plain": [
       "ObjectApiResponse({'acknowledged': True, 'shards_acknowledged': True, 'index': 'example'})"
      ]
     },
     "execution_count": 5,
     "metadata": {},
     "output_type": "execute_result"
    }
   ],
   "source": [
    "from mappings2 import example_mapping\n",
    "es.indices.create(index=\"example\", mappings=example_mapping['mappings'])"
   ]
  },
  {
   "cell_type": "code",
   "execution_count": 26,
   "metadata": {},
   "outputs": [],
   "source": [
    "index_name = \"example\"  \n",
    "json_data = cantus_expand\n",
    "for ind, row in enumerate(json_data):\n",
    "    response = es.index(index=index_name, document=remove_url(row), id=None)\n",
    "\n",
    "    # Check the response from Elasticsearch\n",
    "    if response[\"result\"] != \"created\":\n",
    "        print(\"Failed to index the document index\", ind)"
   ]
  },
  {
   "cell_type": "code",
   "execution_count": 8,
   "metadata": {},
   "outputs": [
    {
     "data": {
      "text/plain": [
       "ObjectApiResponse({'count': 50, '_shards': {'total': 1, 'successful': 1, 'skipped': 0, 'failed': 0}})"
      ]
     },
     "execution_count": 8,
     "metadata": {},
     "output_type": "execute_result"
    }
   ],
   "source": [
    "es.count(index='example', query={\"match_all\": {}})"
   ]
  },
  {
   "cell_type": "code",
   "execution_count": 27,
   "metadata": {},
   "outputs": [],
   "source": [
    "index_name = \"example\"  \n",
    "json_data = simssa_expand\n",
    "for ind, row in enumerate(json_data):\n",
    "    response = es.index(index=index_name, document=remove_url(row), id=None)\n",
    "\n",
    "    # Check the response from Elasticsearch\n",
    "    if response[\"result\"] != \"created\":\n",
    "        print(\"Failed to index the document index\", ind)"
   ]
  },
  {
   "cell_type": "code",
   "execution_count": 11,
   "metadata": {},
   "outputs": [
    {
     "data": {
      "text/plain": [
       "ObjectApiResponse({'count': 167, '_shards': {'total': 1, 'successful': 1, 'skipped': 0, 'failed': 0}})"
      ]
     },
     "execution_count": 11,
     "metadata": {},
     "output_type": "execute_result"
    }
   ],
   "source": [
    "es.count(index='example', query={\"match_all\": {}})"
   ]
  },
  {
   "cell_type": "code",
   "execution_count": 28,
   "metadata": {},
   "outputs": [],
   "source": [
    "default_mapping = es.indices.get_mapping(index=\"example2\")['example2']"
   ]
  },
  {
   "cell_type": "code",
   "execution_count": 25,
   "metadata": {},
   "outputs": [
    {
     "name": "stdout",
     "output_type": "stream",
     "text": [
      "{'@id': 'https://cantusdatabase.org/chant/561440', '@type': ['http://www.wikidata.org/entity/Q23072435'], 'id-numbers': [{'@id': 'https://cantusindex.org/id/001197'}], 'P86': [{'@id': 'http://www.wikidata.org/entity/Q4233718', 'P2561': [{'@value': 'Anonymous'}]}], 'Dataset': [{'@id': 'https://cantusdatabase.org/'}], 'Q4484726': [{'@value': 'E'}], 'P136': [{'@id': 'http://www.wikidata.org/entity/Q582093', 'P2561': [{'@value': 'Antiphon'}]}], 'P1922': [{'@value': 'A viro iniquo libera me '}], 'Q731978': [{'@id': 'http://www.wikidata.org/entity/Q1641387', 'P2561': [{'@value': 'hypophrygian'}]}], 'source': [{'@id': 'https://cantusdatabase.org/source/123756'}]}\n",
      "{'@id': 'https://cantusdatabase.org/chant/671808', '@type': ['http://www.wikidata.org/entity/Q23072435'], 'id-numbers': [{'@id': 'https://cantusindex.org/id/007640'}], 'P86': [{'@id': 'http://www.wikidata.org/entity/Q4233718', 'P2561': [{'@value': 'Anonymous'}]}], 'Dataset': [{'@id': 'https://cantusdatabase.org/'}], 'Q4484726': [{'@value': 'D'}], 'P136': [{'@id': 'http://www.wikidata.org/entity/Q604748', 'P2561': [{'@value': 'Responsory'}]}], 'P1922': [{'@value': 'Sepulto domino signatum est monumentum '}], 'Q731978': [{'@id': 'http://www.wikidata.org/entity/Q842766', 'P2561': [{'@value': 'hypodorian'}]}], 'source': [{'@id': 'https://cantusdatabase.org/source/669163'}]}\n",
      "{'@id': 'https://cantusdatabase.org/chant/562360', '@type': ['http://www.wikidata.org/entity/Q23072435'], 'id-numbers': [{'@id': 'https://cantusindex.org/id/004500'}], 'P86': [{'@id': 'http://www.wikidata.org/entity/Q4233718', 'P2561': [{'@value': 'Anonymous'}]}], 'Dataset': [{'@id': 'https://cantusdatabase.org/'}], 'Q4484726': [{'@value': 'G'}], 'P136': [{'@id': 'http://www.wikidata.org/entity/Q582093', 'P2561': [{'@value': 'Antiphon'}]}], 'P1922': [{'@value': 'Qui sunt hi sermones quos '}], 'Q731978': [{'@id': 'http://www.wikidata.org/entity/Q57976142', 'P2561': [{'@value': 'hypomixolydian'}]}], 'source': [{'@id': 'https://cantusdatabase.org/source/123756'}]}\n",
      "{'@id': 'https://cantusdatabase.org/chant/670719', '@type': ['http://www.wikidata.org/entity/Q23072435'], 'id-numbers': [{'@id': 'https://cantusindex.org/id/002827'}], 'P86': [{'@id': 'http://www.wikidata.org/entity/Q4233718', 'P2561': [{'@value': 'Anonymous'}]}], 'Dataset': [{'@id': 'https://cantusdatabase.org/'}], 'Q4484726': [{'@value': 'G'}], 'P136': [{'@id': 'http://www.wikidata.org/entity/Q582093', 'P2561': [{'@value': 'Antiphon'}]}], 'P1922': [{'@value': 'Extollens quaedam mulier vocem de '}], 'Q731978': [{'@id': 'http://www.wikidata.org/entity/Q57976142', 'P2561': [{'@value': 'hypomixolydian'}]}], 'source': [{'@id': 'https://cantusdatabase.org/source/669163'}]}\n",
      "{'@id': 'https://cantusdatabase.org/chant/560969', '@type': ['http://www.wikidata.org/entity/Q23072435'], 'id-numbers': [{'@id': 'https://cantusindex.org/id/003877'}], 'P86': [{'@id': 'http://www.wikidata.org/entity/Q4233718', 'P2561': [{'@value': 'Anonymous'}]}], 'Dataset': [{'@id': 'https://cantusdatabase.org/'}], 'Q4484726': [{'@value': 'F'}], 'P136': [{'@id': 'http://www.wikidata.org/entity/Q582093', 'P2561': [{'@value': 'Antiphon'}]}], 'P1922': [{'@value': 'Nesciens mater virgo virum peperit '}], 'Q731978': [{'@id': 'http://www.wikidata.org/entity/Q5959856', 'P2561': [{'@value': 'hypolydian'}]}], 'source': [{'@id': 'https://cantusdatabase.org/source/123756'}]}\n",
      "{'@id': 'https://cantusdatabase.org/chant/561782', '@type': ['http://www.wikidata.org/entity/Q23072435'], 'id-numbers': [{'@id': 'https://cantusindex.org/id/004482'}], 'P86': [{'@id': 'http://www.wikidata.org/entity/Q4233718', 'P2561': [{'@value': 'Anonymous'}]}], 'Dataset': [{'@id': 'https://cantusdatabase.org/'}], 'Q4484726': [{'@value': 'D'}], 'P136': [{'@id': 'http://www.wikidata.org/entity/Q582093', 'P2561': [{'@value': 'Antiphon'}]}], 'P1922': [{'@value': 'Qui me misit mecum est '}], 'Q731978': [{'@id': 'http://www.wikidata.org/entity/Q960729', 'P2561': [{'@value': 'dorian'}]}], 'source': [{'@id': 'https://cantusdatabase.org/source/123756'}]}\n",
      "{'@id': 'https://cantusdatabase.org/chant/561369', '@type': ['http://www.wikidata.org/entity/Q23072435'], 'id-numbers': [{'@id': 'https://cantusindex.org/id/002816'}], 'P86': [{'@id': 'http://www.wikidata.org/entity/Q4233718', 'P2561': [{'@value': 'Anonymous'}]}], 'Dataset': [{'@id': 'https://cantusdatabase.org/'}], 'Q4484726': [{'@value': 'F'}], 'P136': [{'@id': 'http://www.wikidata.org/entity/Q582093', 'P2561': [{'@value': 'Antiphon'}]}], 'P1922': [{'@value': 'Exsultavit cor meum in domino'}], 'Q731978': [{'@id': 'http://www.wikidata.org/entity/Q686115', 'P2561': [{'@value': 'lydian'}]}], 'source': [{'@id': 'https://cantusdatabase.org/source/123756'}]}\n",
      "{'@id': 'https://cantusdatabase.org/chant/560671', '@type': ['http://www.wikidata.org/entity/Q23072435'], 'id-numbers': [{'@id': 'https://cantusindex.org/id/006162b'}], 'P86': [{'@id': 'http://www.wikidata.org/entity/Q4233718', 'P2561': [{'@value': 'Anonymous'}]}], 'Dataset': [{'@id': 'https://cantusdatabase.org/'}], 'Q4484726': [{'@value': 'B'}], 'P136': [{'@value': 'Responsory verse'}], 'P1922': [{'@value': 'Beata quae credidit quoniam perfecta '}], 'Q731978': [{'@id': 'http://www.wikidata.org/entity/Q321814', 'P2561': [{'@value': 'mixolydian'}]}], 'source': [{'@id': 'https://cantusdatabase.org/source/123756'}]}\n",
      "{'@id': 'https://cantusdatabase.org/chant/562073', '@type': ['http://www.wikidata.org/entity/Q23072435'], 'id-numbers': [{'@id': 'https://cantusindex.org/id/001974'}], 'P86': [{'@id': 'http://www.wikidata.org/entity/Q4233718', 'P2561': [{'@value': 'Anonymous'}]}], 'Dataset': [{'@id': 'https://cantusdatabase.org/'}], 'Q4484726': [{'@value': 'G'}], 'P136': [{'@id': 'http://www.wikidata.org/entity/Q582093', 'P2561': [{'@value': 'Antiphon'}]}], 'P1922': [{'@value': 'Cum angelis et pueris fideles '}], 'Q731978': [{'@id': 'http://www.wikidata.org/entity/Q321814', 'P2561': [{'@value': 'mixolydian'}]}], 'source': [{'@id': 'https://cantusdatabase.org/source/123756'}]}\n",
      "{'@id': 'https://cantusdatabase.org/chant/669168', '@type': ['http://www.wikidata.org/entity/Q23072435'], 'id-numbers': [{'@id': 'https://cantusindex.org/id/003509'}], 'P86': [{'@id': 'http://www.wikidata.org/entity/Q4233718', 'P2561': [{'@value': 'Anonymous'}]}], 'Dataset': [{'@id': 'https://cantusdatabase.org/'}], 'Q4484726': [{'@value': 'G'}], 'P136': [{'@id': 'http://www.wikidata.org/entity/Q582093', 'P2561': [{'@value': 'Antiphon'}]}], 'P1922': [{'@value': 'Jucundare filia Sion et exsulta '}], 'Q731978': [{'@id': 'http://www.wikidata.org/entity/Q57976142', 'P2561': [{'@value': 'hypomixolydian'}]}], 'source': [{'@id': 'https://cantusdatabase.org/source/669163'}]}\n"
     ]
    }
   ],
   "source": [
    "# query = {\n",
    "#         \"match\": {\n",
    "#             \"P86.P2561.@value\": \"anonymous\"\n",
    "#         }\n",
    "#     }\n",
    "query = {\n",
    "        \"fuzzy\": {\n",
    "            \"composer\": \"anonimous\"\n",
    "        }\n",
    "    }\n",
    "\n",
    "results = es.search(index=\"example\", query=query)\n",
    "\n",
    "for hit in results[\"hits\"][\"hits\"]:\n",
    "    print(hit[\"_source\"])"
   ]
  },
  {
   "cell_type": "code",
   "execution_count": 28,
   "metadata": {},
   "outputs": [],
   "source": [
    "def get_aliases(field_name):\n",
    "\n",
    "    if field_name[0] == 'P':\n",
    "        wikidata_url = f\"http://www.wikidata.org/prop/direct/{field_name}\"\n",
    "\n",
    "    elif field_name[0] == 'Q':\n",
    "        wikidata_url = f\"http://www.wikidata.org/entity/{field_name}\"\n",
    "        \n",
    "    else:\n",
    "        return 0\n",
    "    \n",
    "    try:\n",
    "        response = requests.get(wikidata_url)\n",
    "\n",
    "        if response.status_code == 200:\n",
    "            soup = BeautifulSoup(response.text, 'html.parser')\n",
    "\n",
    "            aliases_section = soup.find('span', {'id': 'In more languages'})\n",
    "            print(aliases_section)\n",
    "            labels = []\n",
    "            also_known_as = []\n",
    "\n",
    "            if aliases_section:\n",
    "                rows = aliases_section.find_next('table').find_all('tr')\n",
    "\n",
    "                for row in rows:\n",
    "                    columns = row.find_all('td')\n",
    "                    if len(columns) >= 2:\n",
    "                        lang = columns[0].get_text().strip()\n",
    "                        alias = columns[1].get_text().strip()\n",
    "                        \n",
    "                        if lang == \"label\":\n",
    "                            labels.append(alias)\n",
    "                        elif lang == \"Also known as\":\n",
    "                            also_known_as.append(alias)\n",
    "\n",
    "            return labels, also_known_as\n",
    "\n",
    "    except Exception as e:\n",
    "        print(f\"An error occurred: {str(e)}\")\n",
    "\n",
    "    return None, None"
   ]
  },
  {
   "cell_type": "code",
   "execution_count": 29,
   "metadata": {},
   "outputs": [],
   "source": [
    "field_alias_dict = {\n",
    "    \"P1476\": \"title\",\n",
    "    \"P86\": \"composer\",\n",
    "    \"P136\": \"genre\",\n",
    "    \"P826\": \"tonality\",\n",
    "    \"P2701\": \"file format\",\n",
    "    \"P577\": \"publication date\",\n",
    "    \"P2699\": \"URL\",\n",
    "    \"P50\": \"author\",\n",
    "    \"P175\": \"performer\",\n",
    "    \"P1545\": \"series ordinal\",\n",
    "    \"Q4484726\": \"final\",\n",
    "    \"P2561\": \"name\",\n",
    "    \"P135\": \"movement\",\n",
    "    \"P1299\": \"depicted by\",\n",
    "    \"Q731978\": \"mode\",\n",
    "}"
   ]
  },
  {
   "cell_type": "code",
   "execution_count": 33,
   "metadata": {},
   "outputs": [],
   "source": [
    "def update_mapping_with_aliases(existing_mapping, field_alias_dict):\n",
    "    def add_aliases_to_properties(properties, alias_dict, parent_path=\"\"):\n",
    "        updated_properties = properties.copy()\n",
    "        for field, field_info in properties.items():\n",
    "            \n",
    "            field_path = parent_path + field\n",
    "\n",
    "            if \"properties\" in field_info:\n",
    "                    \n",
    "                    nested_properties = field_info[\"properties\"]\n",
    "                    updated_nested = add_aliases_to_properties(\n",
    "                        nested_properties, alias_dict, field_path + \".\"\n",
    "                    )\n",
    "                    field_info[\"properties\"] = updated_nested\n",
    "\n",
    "                  \n",
    "            if field in alias_dict:\n",
    "                # print('now in',field,'add alias to',field_path)\n",
    "                alias_name = alias_dict[field]\n",
    "                field_fields = updated_properties[field]['properties']\n",
    "                field_fields[alias_name] = {\n",
    "                    \"type\": \"alias\",\n",
    "                    \"path\": field_path\n",
    "                }\n",
    "\n",
    "\n",
    "        return updated_properties\n",
    "    \n",
    "    if \"properties\" not in existing_mapping.get(\"mappings\", {}):\n",
    "        raise ValueError(\"The 'properties' key is missing in the existing mapping.\")\n",
    "\n",
    "    properties = existing_mapping[\"mappings\"][\"properties\"]\n",
    "    updated_properties = add_aliases_to_properties(properties, field_alias_dict)\n",
    "\n",
    "    output_mapping = {}\n",
    "    out_temp = {}\n",
    "    out_temp[\"properties\"] = updated_properties\n",
    "    output_mapping[\"mappings\"] = out_temp\n",
    "    return output_mapping\n",
    "\n"
   ]
  },
  {
   "cell_type": "code",
   "execution_count": 36,
   "metadata": {},
   "outputs": [],
   "source": [
    "new_mapping = update_mapping_with_aliases(example_mappings,field_alias_dict)"
   ]
  },
  {
   "cell_type": "code",
   "execution_count": 47,
   "metadata": {},
   "outputs": [],
   "source": [
    "example_mapping = {\n",
    "  \"mappings\": {\n",
    "    \"properties\": {\n",
    "      \"@id\": {\n",
    "        \"type\": \"text\"\n",
    "      },\n",
    "      \"@type\": {\n",
    "        \"type\": \"text\"\n",
    "      },\n",
    "      \"P135\": {\n",
    "        \"properties\": {\n",
    "          \"@id\": {\n",
    "            \"type\": \"text\"\n",
    "          },\n",
    "          \"P2561\": {\n",
    "            \"properties\": {\n",
    "              \"@value\": {\n",
    "                \"type\": \"text\"\n",
    "              }\n",
    "            }\n",
    "          },\n",
    "          # \"name\": {\n",
    "          #   \"type\": \"alias\",\n",
    "          #   \"path\": \"P135.P2561\"\n",
    "          # }\n",
    "        }\n",
    "      },\n",
    "       \"movement\": {\n",
    "        \"type\": \"alias\",\n",
    "        \"path\": \"P135\"\n",
    "      },}}}"
   ]
  },
  {
   "cell_type": "code",
   "execution_count": 51,
   "metadata": {},
   "outputs": [],
   "source": [
    "example_mapping={\n",
    "  \"mappings\": {\n",
    "    \"doc\": {\n",
    "      \"properties\": {\n",
    "        \"firstname\": {\n",
    "          \"type\": \"text\"\n",
    "        },\n",
    "        \"fn\": {\n",
    "          \"type\": \"alias\",\n",
    "          \"path\": \"firstname\" \n",
    "        }\n",
    "      }\n",
    "    }\n",
    "  }\n",
    "}"
   ]
  },
  {
   "cell_type": "code",
   "execution_count": 52,
   "metadata": {},
   "outputs": [
    {
     "ename": "BadRequestError",
     "evalue": "BadRequestError(400, 'mapper_parsing_exception', 'Root mapping definition has unsupported parameters:  [doc : {properties={firstname={type=text}, fn={path=firstname, type=alias}}}]')",
     "output_type": "error",
     "traceback": [
      "\u001b[1;31m---------------------------------------------------------------------------\u001b[0m",
      "\u001b[1;31mBadRequestError\u001b[0m                           Traceback (most recent call last)",
      "\u001b[1;32m<ipython-input-52-c4b13478e899>\u001b[0m in \u001b[0;36m<module>\u001b[1;34m\u001b[0m\n\u001b[1;32m----> 1\u001b[1;33m \u001b[0mes\u001b[0m\u001b[1;33m.\u001b[0m\u001b[0mindices\u001b[0m\u001b[1;33m.\u001b[0m\u001b[0mcreate\u001b[0m\u001b[1;33m(\u001b[0m\u001b[0mindex\u001b[0m\u001b[1;33m=\u001b[0m\u001b[1;34m\"trytry\"\u001b[0m\u001b[1;33m,\u001b[0m \u001b[0mmappings\u001b[0m\u001b[1;33m=\u001b[0m\u001b[0mexample_mapping\u001b[0m\u001b[1;33m[\u001b[0m\u001b[1;34m'mappings'\u001b[0m\u001b[1;33m]\u001b[0m\u001b[1;33m)\u001b[0m\u001b[1;33m\u001b[0m\u001b[1;33m\u001b[0m\u001b[0m\n\u001b[0m",
      "\u001b[1;32mc:\\Users\\hanwe\\.conda\\envs\\es\\lib\\site-packages\\elasticsearch\\_sync\\client\\utils.py\u001b[0m in \u001b[0;36mwrapped\u001b[1;34m(*args, **kwargs)\u001b[0m\n\u001b[0;32m    412\u001b[0m                         \u001b[1;32mpass\u001b[0m\u001b[1;33m\u001b[0m\u001b[1;33m\u001b[0m\u001b[0m\n\u001b[0;32m    413\u001b[0m \u001b[1;33m\u001b[0m\u001b[0m\n\u001b[1;32m--> 414\u001b[1;33m             \u001b[1;32mreturn\u001b[0m \u001b[0mapi\u001b[0m\u001b[1;33m(\u001b[0m\u001b[1;33m*\u001b[0m\u001b[0margs\u001b[0m\u001b[1;33m,\u001b[0m \u001b[1;33m**\u001b[0m\u001b[0mkwargs\u001b[0m\u001b[1;33m)\u001b[0m\u001b[1;33m\u001b[0m\u001b[1;33m\u001b[0m\u001b[0m\n\u001b[0m\u001b[0;32m    415\u001b[0m \u001b[1;33m\u001b[0m\u001b[0m\n\u001b[0;32m    416\u001b[0m         \u001b[1;32mreturn\u001b[0m \u001b[0mwrapped\u001b[0m  \u001b[1;31m# type: ignore[return-value]\u001b[0m\u001b[1;33m\u001b[0m\u001b[1;33m\u001b[0m\u001b[0m\n",
      "\u001b[1;32mc:\\Users\\hanwe\\.conda\\envs\\es\\lib\\site-packages\\elasticsearch\\_sync\\client\\indices.py\u001b[0m in \u001b[0;36mcreate\u001b[1;34m(self, index, aliases, error_trace, filter_path, human, mappings, master_timeout, pretty, settings, timeout, wait_for_active_shards)\u001b[0m\n\u001b[0;32m    545\u001b[0m         \u001b[1;32mif\u001b[0m \u001b[0m__body\u001b[0m \u001b[1;32mis\u001b[0m \u001b[1;32mnot\u001b[0m \u001b[1;32mNone\u001b[0m\u001b[1;33m:\u001b[0m\u001b[1;33m\u001b[0m\u001b[1;33m\u001b[0m\u001b[0m\n\u001b[0;32m    546\u001b[0m             \u001b[0m__headers\u001b[0m\u001b[1;33m[\u001b[0m\u001b[1;34m\"content-type\"\u001b[0m\u001b[1;33m]\u001b[0m \u001b[1;33m=\u001b[0m \u001b[1;34m\"application/json\"\u001b[0m\u001b[1;33m\u001b[0m\u001b[1;33m\u001b[0m\u001b[0m\n\u001b[1;32m--> 547\u001b[1;33m         return self.perform_request(  # type: ignore[return-value]\n\u001b[0m\u001b[0;32m    548\u001b[0m             \u001b[1;34m\"PUT\"\u001b[0m\u001b[1;33m,\u001b[0m \u001b[0m__path\u001b[0m\u001b[1;33m,\u001b[0m \u001b[0mparams\u001b[0m\u001b[1;33m=\u001b[0m\u001b[0m__query\u001b[0m\u001b[1;33m,\u001b[0m \u001b[0mheaders\u001b[0m\u001b[1;33m=\u001b[0m\u001b[0m__headers\u001b[0m\u001b[1;33m,\u001b[0m \u001b[0mbody\u001b[0m\u001b[1;33m=\u001b[0m\u001b[0m__body\u001b[0m\u001b[1;33m\u001b[0m\u001b[1;33m\u001b[0m\u001b[0m\n\u001b[0;32m    549\u001b[0m         )\n",
      "\u001b[1;32mc:\\Users\\hanwe\\.conda\\envs\\es\\lib\\site-packages\\elasticsearch\\_sync\\client\\_base.py\u001b[0m in \u001b[0;36mperform_request\u001b[1;34m(self, method, path, params, headers, body)\u001b[0m\n\u001b[0;32m    387\u001b[0m         \u001b[1;31m# Use the internal clients .perform_request() implementation\u001b[0m\u001b[1;33m\u001b[0m\u001b[1;33m\u001b[0m\u001b[1;33m\u001b[0m\u001b[0m\n\u001b[0;32m    388\u001b[0m         \u001b[1;31m# so we take advantage of their transport options.\u001b[0m\u001b[1;33m\u001b[0m\u001b[1;33m\u001b[0m\u001b[1;33m\u001b[0m\u001b[0m\n\u001b[1;32m--> 389\u001b[1;33m         return self._client.perform_request(\n\u001b[0m\u001b[0;32m    390\u001b[0m             \u001b[0mmethod\u001b[0m\u001b[1;33m,\u001b[0m \u001b[0mpath\u001b[0m\u001b[1;33m,\u001b[0m \u001b[0mparams\u001b[0m\u001b[1;33m=\u001b[0m\u001b[0mparams\u001b[0m\u001b[1;33m,\u001b[0m \u001b[0mheaders\u001b[0m\u001b[1;33m=\u001b[0m\u001b[0mheaders\u001b[0m\u001b[1;33m,\u001b[0m \u001b[0mbody\u001b[0m\u001b[1;33m=\u001b[0m\u001b[0mbody\u001b[0m\u001b[1;33m\u001b[0m\u001b[1;33m\u001b[0m\u001b[0m\n\u001b[0;32m    391\u001b[0m         )\n",
      "\u001b[1;32mc:\\Users\\hanwe\\.conda\\envs\\es\\lib\\site-packages\\elasticsearch\\_sync\\client\\_base.py\u001b[0m in \u001b[0;36mperform_request\u001b[1;34m(self, method, path, params, headers, body)\u001b[0m\n\u001b[0;32m    318\u001b[0m                     \u001b[1;32mpass\u001b[0m\u001b[1;33m\u001b[0m\u001b[1;33m\u001b[0m\u001b[0m\n\u001b[0;32m    319\u001b[0m \u001b[1;33m\u001b[0m\u001b[0m\n\u001b[1;32m--> 320\u001b[1;33m             raise HTTP_EXCEPTIONS.get(meta.status, ApiError)(\n\u001b[0m\u001b[0;32m    321\u001b[0m                 \u001b[0mmessage\u001b[0m\u001b[1;33m=\u001b[0m\u001b[0mmessage\u001b[0m\u001b[1;33m,\u001b[0m \u001b[0mmeta\u001b[0m\u001b[1;33m=\u001b[0m\u001b[0mmeta\u001b[0m\u001b[1;33m,\u001b[0m \u001b[0mbody\u001b[0m\u001b[1;33m=\u001b[0m\u001b[0mresp_body\u001b[0m\u001b[1;33m\u001b[0m\u001b[1;33m\u001b[0m\u001b[0m\n\u001b[0;32m    322\u001b[0m             )\n",
      "\u001b[1;31mBadRequestError\u001b[0m: BadRequestError(400, 'mapper_parsing_exception', 'Root mapping definition has unsupported parameters:  [doc : {properties={firstname={type=text}, fn={path=firstname, type=alias}}}]')"
     ]
    }
   ],
   "source": [
    "es.indices.create(index=\"trytry\", mappings=example_mapping['mappings'])"
   ]
  },
  {
   "cell_type": "code",
   "execution_count": 198,
   "metadata": {},
   "outputs": [
    {
     "data": {
      "text/plain": [
       "{'@id': 'https://db.simssa.ca/musicalworks/24',\n",
       " '@type': ['http://www.wikidata.org/entity/Q2188189'],\n",
       " 'http://www.wikidata.org/prop/direct/P86': [{'@id': 'http://www.wikidata.org/entity/Q7442579',\n",
       "   'http://www.wikidata.org/entity/P2561': [{'@value': 'Sebastiano Festa'}]}],\n",
       " 'https://schema.org/Dataset': [{'@id': 'https://db.simssa.ca/'}],\n",
       " 'https://db.simssa.ca/files/': [{'@id': 'https://db.simssa.ca/files/93',\n",
       "   '@type': ['https://db.simssa.ca/files/'],\n",
       "   'http://www.wikidata.org/prop/direct/P2701': [{'@id': 'http://www.wikidata.org/entity/Q2115',\n",
       "     'http://www.wikidata.org/entity/P2561': [{'@value': 'xml'}]}]},\n",
       "  {'@id': 'https://db.simssa.ca/files/94',\n",
       "   '@type': ['https://db.simssa.ca/files/'],\n",
       "   'http://www.wikidata.org/prop/direct/P2701': [{'@id': 'http://www.wikidata.org/entity/Q10610388',\n",
       "     'http://www.wikidata.org/entity/P2561': [{'@value': 'midi'}]}]},\n",
       "  {'@id': 'https://db.simssa.ca/files/95',\n",
       "   '@type': ['https://db.simssa.ca/files/'],\n",
       "   'http://www.wikidata.org/prop/direct/P2701': [{'@id': 'http://www.wikidata.org/entity/Q42332',\n",
       "     'http://www.wikidata.org/entity/P2561': [{'@value': 'pdf'}]}]},\n",
       "  {'@id': 'https://db.simssa.ca/files/96',\n",
       "   '@type': ['https://db.simssa.ca/files/'],\n",
       "   'http://www.wikidata.org/prop/direct/P2701': [{'@id': 'http://www.wikidata.org/entity/Q27967347',\n",
       "     'http://www.wikidata.org/entity/P2561': [{'@value': 'sibelius'}]}]}],\n",
       " 'http://www.wikidata.org/prop/direct/P135': [{'@id': 'http://www.wikidata.org/entity/Q4692',\n",
       "   'http://www.wikidata.org/entity/P2561': [{'@value': 'Renaissance'}]}],\n",
       " 'http://www.wikidata.org/prop/direct/P136': [{'@id': 'http://www.wikidata.org/entity/Q193217',\n",
       "   'http://www.wikidata.org/entity/P2561': [{'@value': 'Madrigal'}]}],\n",
       " 'http://www.wikidata.org/prop/direct/P1476': [{'@value': '[\"Perch\\'ai viso d\\'amor portava insegnia\"]'}]}"
      ]
     },
     "execution_count": 198,
     "metadata": {},
     "output_type": "execute_result"
    }
   ],
   "source": [
    "simssa_expand[23]"
   ]
  },
  {
   "cell_type": "code",
   "execution_count": 17,
   "metadata": {},
   "outputs": [],
   "source": [
    "if es.indices.exists(index=\"example\"):\n",
    "    es.indices.delete(index=\"example\")"
   ]
  },
  {
   "cell_type": "code",
   "execution_count": 16,
   "metadata": {},
   "outputs": [
    {
     "data": {
      "text/plain": [
       "ObjectApiResponse({'acknowledged': True})"
      ]
     },
     "execution_count": 16,
     "metadata": {},
     "output_type": "execute_result"
    }
   ],
   "source": [
    "es.indices.delete(index=\"try\")"
   ]
  }
 ],
 "metadata": {
  "kernelspec": {
   "display_name": "base",
   "language": "python",
   "name": "python3"
  },
  "language_info": {
   "codemirror_mode": {
    "name": "ipython",
    "version": 3
   },
   "file_extension": ".py",
   "mimetype": "text/x-python",
   "name": "python",
   "nbconvert_exporter": "python",
   "pygments_lexer": "ipython3",
   "version": "3.8.18"
  },
  "orig_nbformat": 4
 },
 "nbformat": 4,
 "nbformat_minor": 2
}
