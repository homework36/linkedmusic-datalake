{
 "cells": [
  {
   "cell_type": "code",
   "execution_count": 1,
   "metadata": {},
   "outputs": [],
   "source": [
    "from elasticsearch import Elasticsearch\n",
    "import requests\n",
    "import os\n",
    "import json\n",
    "import pyld.jsonld\n",
    "from bs4 import BeautifulSoup"
   ]
  },
  {
   "cell_type": "code",
   "execution_count": 2,
   "metadata": {},
   "outputs": [
    {
     "data": {
      "text/plain": [
       "{'name': '2138f4a3d3b2',\n",
       " 'cluster_name': 'docker-cluster',\n",
       " 'cluster_uuid': 'YglcgfWLSCSyeScmTVLZjA',\n",
       " 'version': {'number': '8.10.2',\n",
       "  'build_flavor': 'default',\n",
       "  'build_type': 'docker',\n",
       "  'build_hash': '6d20dd8ce62365be9b1aca96427de4622e970e9e',\n",
       "  'build_date': '2023-09-19T08:16:24.564900370Z',\n",
       "  'build_snapshot': False,\n",
       "  'lucene_version': '9.7.0',\n",
       "  'minimum_wire_compatibility_version': '7.17.0',\n",
       "  'minimum_index_compatibility_version': '7.0.0'},\n",
       " 'tagline': 'You Know, for Search'}"
      ]
     },
     "execution_count": 2,
     "metadata": {},
     "output_type": "execute_result"
    }
   ],
   "source": [
    "es = Elasticsearch(\"http://localhost:9200\")\n",
    "es.info().body"
   ]
  },
  {
   "cell_type": "code",
   "execution_count": 3,
   "metadata": {},
   "outputs": [],
   "source": [
    "current_directory = os.getcwd()\n",
    "cantus_url = current_directory + '\\cantusdb\\jsonld\\compact.jsonld'\n",
    "simssa_url = current_directory + '\\simssadb\\jsonld\\compact.jsonld'\n",
    "musicbrainz_url = current_directory + '\\musicbrainz\\jsonld\\looping-approach\\compact.jsonld'\n",
    "\n",
    "with open(cantus_url, 'r') as json_file:\n",
    "    cantus_compact = json.load(json_file)\n",
    "    cantus_expand = pyld.jsonld.expand(cantus_compact) \n",
    "\n",
    "\n",
    "with open(simssa_url, 'r') as json_file:\n",
    "    simssa_compact = json.load(json_file)\n",
    "    simssa_expand = pyld.jsonld.expand(simssa_compact) \n",
    "\n",
    "with open(musicbrainz_url, 'r') as json_file:\n",
    "    musicbrainz_compact = json.load(json_file)\n",
    "    musicbrainz_expand = pyld.jsonld.expand(musicbrainz_compact) "
   ]
  },
  {
   "cell_type": "code",
   "execution_count": 7,
   "metadata": {},
   "outputs": [],
   "source": [
    "def remove_url(data):\n",
    "    def extract_last_part(url):\n",
    "        parts = url.rstrip('/').split('/')\n",
    "        return parts[-1] if parts[-1] else parts[-2]\n",
    "\n",
    "    if isinstance(data, dict):\n",
    "        new_data = {}\n",
    "        for key, value in data.items():\n",
    "            new_key = extract_last_part(key)\n",
    "            new_data[new_key] = remove_url(value)\n",
    "        return new_data\n",
    "    elif isinstance(data, list):\n",
    "        return [remove_url(item) for item in data]\n",
    "    else:\n",
    "        return data"
   ]
  },
  {
   "cell_type": "code",
   "execution_count": 8,
   "metadata": {},
   "outputs": [
    {
     "data": {
      "text/plain": [
       "ObjectApiResponse({'acknowledged': True, 'shards_acknowledged': True, 'index': 'flat'})"
      ]
     },
     "execution_count": 8,
     "metadata": {},
     "output_type": "execute_result"
    }
   ],
   "source": [
    "from mappings2 import example_mapping as flat_mapping\n",
    "es.indices.create(index=\"flat\", mappings=flat_mapping['mappings'])"
   ]
  },
  {
   "cell_type": "code",
   "execution_count": 9,
   "metadata": {},
   "outputs": [
    {
     "data": {
      "text/plain": [
       "ObjectApiResponse({'acknowledged': True, 'shards_acknowledged': True, 'index': 'nested'})"
      ]
     },
     "execution_count": 9,
     "metadata": {},
     "output_type": "execute_result"
    }
   ],
   "source": [
    "from mappings3 import updated_mapping as nested_mapping\n",
    "es.indices.create(index=\"nested\", mappings=nested_mapping['mappings'])"
   ]
  },
  {
   "cell_type": "code",
   "execution_count": 10,
   "metadata": {},
   "outputs": [],
   "source": [
    "index_name = \"flat\""
   ]
  },
  {
   "cell_type": "code",
   "execution_count": 11,
   "metadata": {},
   "outputs": [],
   "source": [
    "json_data = cantus_expand\n",
    "for ind, row in enumerate(json_data):\n",
    "    response = es.index(index=index_name, document=remove_url(row), id=None)\n",
    "\n",
    "    # Check the response from Elasticsearch\n",
    "    if response[\"result\"] != \"created\":\n",
    "        print(\"Failed to index the document index\", ind)\n",
    "json_data = simssa_expand\n",
    "for ind, row in enumerate(json_data):\n",
    "    response = es.index(index=index_name, document=remove_url(row), id=None)\n",
    "\n",
    "    # Check the response from Elasticsearch\n",
    "    if response[\"result\"] != \"created\":\n",
    "        print(\"Failed to index the document index\", ind)"
   ]
  },
  {
   "cell_type": "code",
   "execution_count": 12,
   "metadata": {},
   "outputs": [
    {
     "data": {
      "text/plain": [
       "ObjectApiResponse({'count': 167, '_shards': {'total': 1, 'successful': 1, 'skipped': 0, 'failed': 0}})"
      ]
     },
     "execution_count": 12,
     "metadata": {},
     "output_type": "execute_result"
    }
   ],
   "source": [
    "es.count(index=index_name, query={\"match_all\": {}})"
   ]
  },
  {
   "cell_type": "code",
   "execution_count": 13,
   "metadata": {},
   "outputs": [],
   "source": [
    "index_name = \"nested\""
   ]
  },
  {
   "cell_type": "code",
   "execution_count": 14,
   "metadata": {},
   "outputs": [],
   "source": [
    "json_data = cantus_expand\n",
    "for ind, row in enumerate(json_data):\n",
    "    response = es.index(index=index_name, document=remove_url(row), id=None)\n",
    "\n",
    "    # Check the response from Elasticsearch\n",
    "    if response[\"result\"] != \"created\":\n",
    "        print(\"Failed to index the document index\", ind)\n",
    "json_data = simssa_expand\n",
    "for ind, row in enumerate(json_data):\n",
    "    response = es.index(index=index_name, document=remove_url(row), id=None)\n",
    "\n",
    "    # Check the response from Elasticsearch\n",
    "    if response[\"result\"] != \"created\":\n",
    "        print(\"Failed to index the document index\", ind)"
   ]
  },
  {
   "cell_type": "code",
   "execution_count": 15,
   "metadata": {},
   "outputs": [
    {
     "data": {
      "text/plain": [
       "ObjectApiResponse({'count': 167, '_shards': {'total': 1, 'successful': 1, 'skipped': 0, 'failed': 0}})"
      ]
     },
     "execution_count": 15,
     "metadata": {},
     "output_type": "execute_result"
    }
   ],
   "source": [
    "es.count(index=index_name, query={\"match_all\": {}})"
   ]
  },
  {
   "cell_type": "code",
   "execution_count": 16,
   "metadata": {},
   "outputs": [],
   "source": [
    "default_mapping = es.indices.get_mapping(index=index_name)[index_name]"
   ]
  },
  {
   "cell_type": "code",
   "execution_count": 22,
   "metadata": {},
   "outputs": [
    {
     "name": "stdout",
     "output_type": "stream",
     "text": [
      "{'@id': 'https://cantusdatabase.org/chant/561749', '@type': ['http://www.wikidata.org/entity/Q23072435'], 'id-numbers': [{'@id': 'https://cantusindex.org/id/006540a'}], 'P86': [{'@id': 'http://www.wikidata.org/entity/Q4233718', 'P2561': [{'@value': 'Anonymous'}]}], 'Dataset': [{'@id': 'https://cantusdatabase.org/'}], 'Q4484726': [{'@value': 'F'}], 'P136': [{'@value': 'Responsory verse'}], 'P1922': [{'@value': 'Vere dominus est in loco '}], 'Q731978': [{'@id': 'http://www.wikidata.org/entity/Q960729', 'P2561': [{'@value': 'dorian'}]}], 'source': [{'@id': 'https://cantusdatabase.org/source/123756'}]}\n",
      "{'@id': 'https://cantusdatabase.org/chant/179688', '@type': ['http://www.wikidata.org/entity/Q23072435'], 'id-numbers': [{'@id': 'https://cantusindex.org/id/003251'}], 'P86': [{'@id': 'http://www.wikidata.org/entity/Q4233718', 'P2561': [{'@value': 'Anonymous'}]}], 'Dataset': [{'@id': 'https://cantusdatabase.org/'}], 'Q4484726': [{'@value': 'E'}], 'P136': [{'@id': 'http://www.wikidata.org/entity/Q582093', 'P2561': [{'@value': 'Antiphon'}]}], 'P1922': [{'@value': 'In mandatis ejus volet nimis'}], 'Q731978': [{'@value': 'None'}], 'source': [{'@id': 'https://cantusdatabase.org/source/123714'}]}\n",
      "{'@id': 'https://cantusdatabase.org/chant/672047', '@type': ['http://www.wikidata.org/entity/Q23072435'], 'id-numbers': [{'@id': 'https://cantusindex.org/id/005400'}], 'P86': [{'@id': 'http://www.wikidata.org/entity/Q4233718', 'P2561': [{'@value': 'Anonymous'}]}], 'Dataset': [{'@id': 'https://cantusdatabase.org/'}], 'Q4484726': [{'@value': 'G'}], 'P136': [{'@id': 'http://www.wikidata.org/entity/Q582093', 'P2561': [{'@value': 'Antiphon'}]}], 'P1922': [{'@value': 'Videte manus meas et pedes '}], 'Q731978': [{'@id': 'http://www.wikidata.org/entity/Q57976142', 'P2561': [{'@value': 'hypomixolydian'}]}], 'source': [{'@id': 'https://cantusdatabase.org/source/669163'}]}\n",
      "{'@id': 'https://cantusdatabase.org/chant/563317', '@type': ['http://www.wikidata.org/entity/Q23072435'], 'id-numbers': [{'@id': 'https://cantusindex.org/id/004836'}], 'P86': [{'@id': 'http://www.wikidata.org/entity/Q4233718', 'P2561': [{'@value': 'Anonymous'}]}], 'Dataset': [{'@id': 'https://cantusdatabase.org/'}], 'Q4484726': [{'@value': 'G'}], 'P136': [{'@id': 'http://www.wikidata.org/entity/Q582093', 'P2561': [{'@value': 'Antiphon'}]}], 'P1922': [{'@value': 'Scriptum est enim quia domus '}], 'Q731978': [{'@id': 'http://www.wikidata.org/entity/Q57976142', 'P2561': [{'@value': 'hypomixolydian'}]}], 'source': [{'@id': 'https://cantusdatabase.org/source/123756'}]}\n",
      "{'@id': 'https://cantusdatabase.org/chant/561923', '@type': ['http://www.wikidata.org/entity/Q23072435'], 'id-numbers': [{'@id': 'https://cantusindex.org/id/001216'}], 'P86': [{'@id': 'http://www.wikidata.org/entity/Q4233718', 'P2561': [{'@value': 'Anonymous'}]}], 'Dataset': [{'@id': 'https://cantusdatabase.org/'}], 'Q4484726': [{'@value': 'D'}], 'P136': [{'@id': 'http://www.wikidata.org/entity/Q582093', 'P2561': [{'@value': 'Antiphon'}]}], 'P1922': [{'@value': 'Accepit autem omnes timor et '}], 'Q731978': [{'@id': 'http://www.wikidata.org/entity/Q960729', 'P2561': [{'@value': 'dorian'}]}], 'source': [{'@id': 'https://cantusdatabase.org/source/123756'}]}\n",
      "{'@id': 'https://cantusdatabase.org/chant/670692', '@type': ['http://www.wikidata.org/entity/Q23072435'], 'id-numbers': [{'@id': 'https://cantusindex.org/id/004836'}], 'P86': [{'@id': 'http://www.wikidata.org/entity/Q4233718', 'P2561': [{'@value': 'Anonymous'}]}], 'Dataset': [{'@id': 'https://cantusdatabase.org/'}], 'Q4484726': [{'@value': 'G'}], 'P136': [{'@id': 'http://www.wikidata.org/entity/Q582093', 'P2561': [{'@value': 'Antiphon'}]}], 'P1922': [{'@value': 'Scriptum est enim quia domus '}], 'Q731978': [{'@id': 'http://www.wikidata.org/entity/Q57976142', 'P2561': [{'@value': 'hypomixolydian'}]}], 'source': [{'@id': 'https://cantusdatabase.org/source/669163'}]}\n",
      "{'@id': 'https://cantusdatabase.org/chant/562348', '@type': ['http://www.wikidata.org/entity/Q23072435'], 'id-numbers': [{'@id': 'https://cantusindex.org/id/006323'}], 'P86': [{'@id': 'http://www.wikidata.org/entity/Q4233718', 'P2561': [{'@value': 'Anonymous'}]}], 'Dataset': [{'@id': 'https://cantusdatabase.org/'}], 'Q4484726': [{'@value': 'E'}], 'P136': [{'@id': 'http://www.wikidata.org/entity/Q604748', 'P2561': [{'@value': 'Responsory'}]}], 'P1922': [{'@value': 'Congratulamini mihi omnes qui diligitis '}], 'Q731978': [{'@id': 'http://www.wikidata.org/entity/Q1342409', 'P2561': [{'@value': 'phrygian'}]}], 'source': [{'@id': 'https://cantusdatabase.org/source/123756'}]}\n",
      "{'@id': 'https://cantusdatabase.org/chant/560856', '@type': ['http://www.wikidata.org/entity/Q23072435'], 'id-numbers': [{'@id': 'https://cantusindex.org/id/003627'}], 'P86': [{'@id': 'http://www.wikidata.org/entity/Q4233718', 'P2561': [{'@value': 'Anonymous'}]}], 'Dataset': [{'@id': 'https://cantusdatabase.org/'}], 'Q4484726': [{'@value': 'G'}], 'P136': [{'@id': 'http://www.wikidata.org/entity/Q582093', 'P2561': [{'@value': 'Antiphon'}]}], 'P1922': [{'@value': 'Licuit sanguine loqui quibus lingua '}], 'Q731978': [{'@id': 'http://www.wikidata.org/entity/Q57976142', 'P2561': [{'@value': 'hypomixolydian'}]}], 'source': [{'@id': 'https://cantusdatabase.org/source/123756'}]}\n",
      "{'@id': 'https://cantusdatabase.org/chant/562605', '@type': ['http://www.wikidata.org/entity/Q23072435'], 'id-numbers': [{'@id': 'https://cantusindex.org/id/004519'}], 'P86': [{'@id': 'http://www.wikidata.org/entity/Q4233718', 'P2561': [{'@value': 'Anonymous'}]}], 'Dataset': [{'@id': 'https://cantusdatabase.org/'}], 'Q4484726': [{'@value': 'E'}], 'P136': [{'@id': 'http://www.wikidata.org/entity/Q582093', 'P2561': [{'@value': 'Antiphon'}]}], 'P1922': [{'@value': 'Quid est hoc quod dicit '}], 'Q731978': [{'@id': 'http://www.wikidata.org/entity/Q1342409', 'P2561': [{'@value': 'phrygian'}]}], 'source': [{'@id': 'https://cantusdatabase.org/source/123756'}]}\n",
      "{'@id': 'https://cantusdatabase.org/chant/561647', '@type': ['http://www.wikidata.org/entity/Q23072435'], 'id-numbers': [{'@id': 'https://cantusindex.org/id/001294'}], 'P86': [{'@id': 'http://www.wikidata.org/entity/Q4233718', 'P2561': [{'@value': 'Anonymous'}]}], 'Dataset': [{'@id': 'https://cantusdatabase.org/'}], 'Q4484726': [{'@value': 'G'}], 'P136': [{'@id': 'http://www.wikidata.org/entity/Q582093', 'P2561': [{'@value': 'Antiphon'}]}], 'P1922': [{'@value': 'Advenerunt nobis dies paenitentiae ad '}], 'Q731978': [{'@id': 'http://www.wikidata.org/entity/Q57976142', 'P2561': [{'@value': 'hypomixolydian'}]}], 'source': [{'@id': 'https://cantusdatabase.org/source/123756'}]}\n"
     ]
    }
   ],
   "source": [
    "# query = {\n",
    "#         \"match\": {\n",
    "#             \"P86.P2561.@value\": \"anonymous\"\n",
    "#         }\n",
    "#     }\n",
    "query = {\n",
    "        \"fuzzy\": {\n",
    "            \"P86.P2561.@value\": \"anonimous\"\n",
    "        }\n",
    "    }\n",
    "\n",
    "results = es.search(index='flat', query=query)\n",
    "\n",
    "for hit in results[\"hits\"][\"hits\"]:\n",
    "    print(hit[\"_source\"])"
   ]
  },
  {
   "cell_type": "code",
   "execution_count": 29,
   "metadata": {},
   "outputs": [],
   "source": [
    "field_alias_dict = {\n",
    "    \"P1476\": \"title\",\n",
    "    \"P86\": \"composer\",\n",
    "    \"P136\": \"genre\",\n",
    "    \"P826\": \"tonality\",\n",
    "    \"P2701\": \"file format\",\n",
    "    \"P577\": \"publication date\",\n",
    "    \"P2699\": \"URL\",\n",
    "    \"P50\": \"author\",\n",
    "    \"P175\": \"performer\",\n",
    "    \"P1545\": \"series ordinal\",\n",
    "    \"Q4484726\": \"final\",\n",
    "    \"P2561\": \"name\",\n",
    "    \"P135\": \"movement\",\n",
    "    \"P1299\": \"depicted by\",\n",
    "    \"Q731978\": \"mode\",\n",
    "}"
   ]
  },
  {
   "cell_type": "code",
   "execution_count": 33,
   "metadata": {},
   "outputs": [],
   "source": [
    "def update_mapping_with_aliases(existing_mapping, field_alias_dict):\n",
    "    def add_aliases_to_properties(properties, alias_dict, parent_path=\"\"):\n",
    "        updated_properties = properties.copy()\n",
    "        for field, field_info in properties.items():\n",
    "            \n",
    "            field_path = parent_path + field\n",
    "\n",
    "            if \"properties\" in field_info:\n",
    "                    \n",
    "                    nested_properties = field_info[\"properties\"]\n",
    "                    updated_nested = add_aliases_to_properties(\n",
    "                        nested_properties, alias_dict, field_path + \".\"\n",
    "                    )\n",
    "                    field_info[\"properties\"] = updated_nested\n",
    "\n",
    "                  \n",
    "            if field in alias_dict:\n",
    "                # print('now in',field,'add alias to',field_path)\n",
    "                alias_name = alias_dict[field]\n",
    "                field_fields = updated_properties[field]['properties']\n",
    "                field_fields[alias_name] = {\n",
    "                    \"type\": \"alias\",\n",
    "                    \"path\": field_path\n",
    "                }\n",
    "\n",
    "\n",
    "        return updated_properties\n",
    "    \n",
    "    if \"properties\" not in existing_mapping.get(\"mappings\", {}):\n",
    "        raise ValueError(\"The 'properties' key is missing in the existing mapping.\")\n",
    "\n",
    "    properties = existing_mapping[\"mappings\"][\"properties\"]\n",
    "    updated_properties = add_aliases_to_properties(properties, field_alias_dict)\n",
    "\n",
    "    output_mapping = {}\n",
    "    out_temp = {}\n",
    "    out_temp[\"properties\"] = updated_properties\n",
    "    output_mapping[\"mappings\"] = out_temp\n",
    "    return output_mapping"
   ]
  },
  {
   "cell_type": "code",
   "execution_count": 6,
   "metadata": {},
   "outputs": [],
   "source": [
    "if es.indices.exists(index=\"flat\"):\n",
    "    es.indices.delete(index=\"flat\")"
   ]
  }
 ],
 "metadata": {
  "kernelspec": {
   "display_name": "base",
   "language": "python",
   "name": "python3"
  },
  "language_info": {
   "codemirror_mode": {
    "name": "ipython",
    "version": 3
   },
   "file_extension": ".py",
   "mimetype": "text/x-python",
   "name": "python",
   "nbconvert_exporter": "python",
   "pygments_lexer": "ipython3",
   "version": "3.8.18"
  },
  "orig_nbformat": 4
 },
 "nbformat": 4,
 "nbformat_minor": 2
}
